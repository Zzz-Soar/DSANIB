{
 "cells": [
  {
   "cell_type": "markdown",
   "id": "79be0bfb",
   "metadata": {},
   "source": [
    "## DSANIB: A novel framework for drug-target interaction prediction by dual-view synergistic attention network with information bottleneck\n",
    "\n",
    "####Import required modules."
   ]
  },
  {
   "cell_type": "code",
   "execution_count": null,
   "id": "6b934c44",
   "metadata": {},
   "outputs": [],
   "source": [
    "from models import DSANIB\n",
    "from time import time\n",
    "from utils import set_seed, graph_collate_func, mkdir\n",
    "from configs import get_cfg_defaults\n",
    "from dataProcess import DTIDataset\n",
    "from torch.utils.data import DataLoader\n",
    "from train import Training\n",
    "import torch\n",
    "import argparse\n",
    "import os\n",
    "import pandas as pd"
   ]
  },
  {
   "cell_type": "markdown",
   "id": "70b9687b",
   "metadata": {},
   "source": [
    "####Configuration."
   ]
  },
  {
   "cell_type": "code",
   "execution_count": null,
   "id": "d1e58a32",
   "metadata": {},
   "outputs": [],
   "source": [
    "device = torch.device('cuda' if torch.cuda.is_available() else 'cpu')\n",
    "cfg_path = \"./configs/DSANIB_Demo.yaml\"\n",
    "data = \"bindingdb_sample\"\n",
    "\n",
    "cfg = get_cfg_defaults()\n",
    "cfg.merge_from_file(cfg_path)\n",
    "cfg.freeze()\n",
    "\n",
    "torch.cuda.empty_cache()\n",
    "warnings.filterwarnings(\"ignore\")\n",
    "set_seed(cfg.SETUP.SEED)\n",
    "mkdir(cfg.RESULT.OUTPUT_PATH)\n",
    "print(f\"Config yaml: {cfg_path}\")\n",
    "print(f\"Running on: {device}\")\n",
    "print(f\"Hyperparameters:\")\n",
    "dict(cfg)"
   ]
  },
  {
   "cell_type": "markdown",
   "id": "58c3f7c3",
   "metadata": {},
   "source": [
    "####Data Loader"
   ]
  },
  {
   "cell_type": "code",
   "execution_count": null,
   "id": "16d89f99",
   "metadata": {},
   "outputs": [],
   "source": [
    "dataFolder = f'./datasets/{data}'\n",
    "\n",
    "train_path = os.path.join(dataFolder, 'train.csv')\n",
    "val_path = os.path.join(dataFolder, \"val.csv\")\n",
    "test_path = os.path.join(dataFolder, \"test.csv\")\n",
    "df_train = pd.read_csv(train_path)\n",
    "df_val = pd.read_csv(val_path)\n",
    "df_test = pd.read_csv(test_path)\n",
    "\n",
    "train_dataset = DTIDataset(df_train.index.values, df_train)\n",
    "val_dataset = DTIDataset(df_val.index.values, df_val)\n",
    "test_dataset = DTIDataset(df_test.index.values, df_test)\n",
    "\n",
    "params = {'batch_size': cfg.SETUP.BATCH_SIZE, 'shuffle': True, 'num_workers': cfg.SETUP.NUM_WORKERS,\n",
    "          'drop_last': True, 'collate_fn': graph_collate_func}\n",
    "\n",
    "train_data = DataLoader(train_dataset, **params)\n",
    "params['shuffle'] = False\n",
    "params['drop_last'] = False\n",
    "\n",
    "val_data = DataLoader(val_dataset, **params)\n",
    "test_data = DataLoader(test_dataset, **params)"
   ]
  },
  {
   "cell_type": "markdown",
   "id": "6ecd772f",
   "metadata": {},
   "source": [
    "####Setup Model and Optimizer"
   ]
  },
  {
   "cell_type": "code",
   "execution_count": null,
   "id": "1022ee75",
   "metadata": {},
   "outputs": [],
   "source": [
    "model = DSANIB(**cfg).to(device)\n",
    "opt = torch.optim.Adam(model.parameters(), lr=cfg.SETUP.LR)\n",
    "if torch.cuda.is_available():\n",
    "  torch.backends.cudnn.benchmark = True"
   ]
  },
  {
   "cell_type": "markdown",
   "id": "4971e5f6",
   "metadata": {},
   "source": [
    "####Model Training and Test Optimized Model"
   ]
  },
  {
   "cell_type": "code",
   "execution_count": null,
   "id": "45f7962b",
   "metadata": {},
   "outputs": [],
   "source": [
    "trainer = Training(model, opt, device, train_data, val_data, test_data, opt_da=None **cfg)\n",
    "    result = trainer.train()\n",
    "with open(os.path.join(cfg.RESULT.OUTPUT_DIR, \"model_architecture.txt\"), \"w\") as wf:\n",
    "    wf.write(str(model))\n",
    "print(f\"Directory for saving result: {cfg.RESULT.OUTPUT_PATH}\")"
   ]
  }
 ],
 "metadata": {},
 "nbformat": 4,
 "nbformat_minor": 5
}
